{
 "cells": [
  {
   "cell_type": "code",
   "execution_count": 1,
   "metadata": {},
   "outputs": [],
   "source": [
    "# Import libraries and set up the environment\n",
    "\n",
    "import sys\n",
    "sys.path.append('../')\n",
    "\n",
    "import dotenv\n",
    "dotenv.load_dotenv(\"../.env\")\n",
    "\n",
    "import os\n",
    "import numpy as np\n",
    "import pandas as pd\n",
    "import matplotlib.pyplot as plt\n",
    "import seaborn as sns\n",
    "\n",
    "from src.constants import PROJECT_PATH"
   ]
  },
  {
   "cell_type": "code",
   "execution_count": 2,
   "metadata": {},
   "outputs": [
    {
     "name": "stdout",
     "output_type": "stream",
     "text": [
      "Instantiating gRNAde v0.2\n",
      "    Using device: cpu\n",
      "    Creating RNA graph featurizer for max_num_conformers=1\n",
      "    Initialising GNN encoder-decoder model\n",
      "    Loading model checkpoint: /Users/chaitanyajoshi/Desktop/pytorch-test/rna-inverse-folding/checkpoints/gRNAde_ARv1_1state.h5\n",
      "Finished initialising gRNAde v0.2\n",
      "\n"
     ]
    }
   ],
   "source": [
    "# Import the gRNAde module\n",
    "from gRNAde import gRNAde\n",
    "\n",
    "# Create an instance of gRNAde\n",
    "gRNAde_module = gRNAde(max_num_conformers=1, gpu_id=0)"
   ]
  },
  {
   "cell_type": "code",
   "execution_count": 3,
   "metadata": {},
   "outputs": [
    {
     "name": "stderr",
     "output_type": "stream",
     "text": [
      "/Users/chaitanyajoshi/miniforge3/envs/rna/lib/python3.10/site-packages/biotite/structure/hbond.py:245: UserWarning: Input structure has no associated 'BondList', Hydrogen atoms bonded to donors are detected by distance\n",
      "  warnings.warn(\n"
     ]
    },
    {
     "name": "stdout",
     "output_type": "stream",
     "text": [
      ">input_sequence, gRNAde_version=0.2, model=AutoregressiveMultiGNNv1, max_num_conformers=1, checkpoint=/Users/chaitanyajoshi/Desktop/pytorch-test/rna-inverse-folding/checkpoints/gRNAde_ARv1_1state.h5, seed=0\n",
      "GACCAAUCUGCCCUCAGAGCUCGAGAACAUCUUCGGAUGCAGAGGAGGCAGGCUUCGGUG\n",
      "GCGCGAUAGCGCCAACGUCCUCAACCUCCAAUGCAUCCCACCACAUGAUGAUGCCUGAAG\n",
      "AGCCUUGGUUUUUUG\n",
      "\n",
      ">sample=0, temperature=0.1, perplexity=1.4665, recovery=0.4148, sc_score=0.6508\n",
      "ACCCGGCGUCUUGGCCGCCCAGCUCUUCCCCCCUGGACGGCGAGCCCCCUGGAAUCCGUA\n",
      "UACCGUUAGGUAUAGGGUCCACACGGGGCAAGCCGUCCUCCCGCGAGGGGAUGGCGGCAU\n",
      "AAGUCCGGAGAAAAG\n",
      "\n",
      ">sample=1, temperature=0.1, perplexity=1.4736, recovery=0.4296, sc_score=0.7302\n",
      "ACCCAGCGUCUUGGCCGCCCAGCUUUUCCCCCCUGGACGGCGAGCCCCCUGGAACCCGUA\n",
      "UACCGUUAGGUAUAGGGUCCACACGGGGCAAGCCGUCCUCCCGCGAGGGGAUGGCGGCAU\n",
      "AAGUCUGGAGAAAUG\n",
      "\n",
      ">sample=2, temperature=0.1, perplexity=1.4501, recovery=0.3704, sc_score=0.6085\n",
      "ACCCCGCGUCCUGGCCGCCCAGCUCUUCCCCCCUGGACGGCGAGCCCCCUCCCAUCCGCA\n",
      "CGCCGCUGGGCGUGGGGGGGACACGGGGCAAGCCGUCCUCACGCGAGGGGAUGGCGGCAC\n",
      "AGGUCGGGAGAAAAG\n",
      "\n",
      ">sample=3, temperature=0.1, perplexity=1.4899, recovery=0.3704, sc_score=0.7221\n",
      "ACCCGGCGUCCAGGGAGACUUGAAAAACCCCCCUGGAUGACGAGCCCCCUCCUACCCGCA\n",
      "CGCCGCUCGGCGUGGGGGGGACACGGGGCAAGUCAUCCUUUUGCGAGGGGAAAGCUCCUU\n",
      "AGGUCCGGAGAAAAG\n",
      "\n"
     ]
    }
   ],
   "source": [
    "# Single-state design example usage\n",
    "sequences, samples, perplexity, recovery_sample, sc_score = gRNAde_module.design_from_pdb_file(\n",
    "    pdb_filepath = \"/Users/chaitanyajoshi/Desktop/pytorch-test/geometric-rna-design/tutorial/demo_data/8t2p_A.pdb\",\n",
    "    output_filepath = \"/Users/chaitanyajoshi/Desktop/pytorch-test/geometric-rna-design/tutorial/outputs/8t2p_A.fasta\",\n",
    "    n_samples = 4,\n",
    "    temperature = 0.1,\n",
    "    seed = 0\n",
    ")\n",
    "for seq in sequences:\n",
    "    print(seq.format('fasta'))"
   ]
  },
  {
   "cell_type": "code",
   "execution_count": 14,
   "metadata": {},
   "outputs": [
    {
     "name": "stderr",
     "output_type": "stream",
     "text": [
      "/Users/chaitanyajoshi/miniforge3/envs/rna/lib/python3.10/site-packages/biotite/structure/hbond.py:245: UserWarning: Input structure has no associated 'BondList', Hydrogen atoms bonded to donors are detected by distance\n",
      "  warnings.warn(\n"
     ]
    },
    {
     "data": {
      "text/plain": [
       "array(2.6752684, dtype=float32)"
      ]
     },
     "execution_count": 14,
     "metadata": {},
     "output_type": "execute_result"
    }
   ],
   "source": [
    "gRNAde_module.perplexity_from_pdb_file(\n",
    "    seq='GACCAAUCUGCCCUCAGAGCUCGAGAACAUCUUCGGAUGCAGAGGAGGCAGGCUUCGGUGGCGCGAUAGCGCCAACGUCCUCAACCUCCAAUGCAUCCCACCACAUGAUGAUGCCUGAAGAGCCUUGGUUUUUUG',\n",
    "    pdb_filepath = \"/Users/chaitanyajoshi/Desktop/pytorch-test/geometric-rna-design/tutorial/demo_data/8t2p_A.pdb\",\n",
    "    temperature=1,\n",
    "    seed=0\n",
    ")"
   ]
  },
  {
   "cell_type": "code",
   "execution_count": 9,
   "metadata": {},
   "outputs": [
    {
     "name": "stderr",
     "output_type": "stream",
     "text": [
      "/Users/chaitanyajoshi/miniforge3/envs/rna/lib/python3.10/site-packages/biotite/structure/hbond.py:245: UserWarning: Input structure has no associated 'BondList', Hydrogen atoms bonded to donors are detected by distance\n",
      "  warnings.warn(\n"
     ]
    }
   ],
   "source": [
    "featurized_data, raw_data = gRNAde_module.featurizer.featurize_from_pdb_file(\n",
    "    pdb_filepath = \"/Users/chaitanyajoshi/Desktop/pytorch-test/geometric-rna-design/tutorial/demo_data/8t2p_A.pdb\"\n",
    ")\n",
    "raw_data[\"sequence\"]"
   ]
  },
  {
   "cell_type": "code",
   "execution_count": null,
   "metadata": {},
   "outputs": [],
   "source": []
  }
 ],
 "metadata": {
  "kernelspec": {
   "display_name": "rna",
   "language": "python",
   "name": "python3"
  },
  "language_info": {
   "codemirror_mode": {
    "name": "ipython",
    "version": 3
   },
   "file_extension": ".py",
   "mimetype": "text/x-python",
   "name": "python",
   "nbconvert_exporter": "python",
   "pygments_lexer": "ipython3",
   "version": "3.10.13"
  }
 },
 "nbformat": 4,
 "nbformat_minor": 2
}
